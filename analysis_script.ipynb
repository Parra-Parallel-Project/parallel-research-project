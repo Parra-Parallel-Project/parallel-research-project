{
  "nbformat": 4,
  "nbformat_minor": 0,
  "metadata": {
    "colab": {
      "provenance": []
    },
    "kernelspec": {
      "name": "python3",
      "display_name": "Python 3"
    },
    "language_info": {
      "name": "python"
    }
  },
  "cells": [
    {
      "cell_type": "markdown",
      "source": [
        "# Post Testing Analysis Script"
      ],
      "metadata": {
        "id": "HocYuNkLyqQU"
      }
    },
    {
      "cell_type": "markdown",
      "source": [
        "## Imports and prep"
      ],
      "metadata": {
        "id": "mhnA_dEhzgyF"
      }
    },
    {
      "cell_type": "code",
      "execution_count": 1,
      "metadata": {
        "colab": {
          "base_uri": "https://localhost:8080/"
        },
        "id": "4y0ld2R0w6x4",
        "outputId": "c6f3fde7-0b80-482a-ad87-8c517fe99538"
      },
      "outputs": [
        {
          "output_type": "stream",
          "name": "stdout",
          "text": [
            "Mounted at /content/gdrive/\n"
          ]
        }
      ],
      "source": [
        "import pandas as pd\n",
        "import matplotlib.pyplot as plt\n",
        "from google.colab import drive\n",
        "import numpy as np\n",
        "\n",
        "# Connecting to the drive\n",
        "drive.mount('/content/gdrive/', force_remount=True)"
      ]
    },
    {
      "cell_type": "code",
      "source": [
        "data_file = 'gdrive/MyDrive/Parallel_Project/times.csv'\n",
        "!ls 'gdrive/MyDrive/Parallel_Project/'"
      ],
      "metadata": {
        "colab": {
          "base_uri": "https://localhost:8080/"
        },
        "id": "vealdz68yyxr",
        "outputId": "0725775b-8192-466f-d7c6-532bf3337cfc"
      },
      "execution_count": 2,
      "outputs": [
        {
          "output_type": "stream",
          "name": "stdout",
          "text": [
            "analysis_script.ipynb  times.csv\n"
          ]
        }
      ]
    },
    {
      "cell_type": "markdown",
      "source": [
        "## Loading the data"
      ],
      "metadata": {
        "id": "rzzEM3hYzkbq"
      }
    },
    {
      "cell_type": "code",
      "source": [
        "data = pd.read_csv(data_file)\n",
        "print(data)"
      ],
      "metadata": {
        "colab": {
          "base_uri": "https://localhost:8080/"
        },
        "id": "jdhPCdp-znAR",
        "outputId": "36fd9225-5524-4c8d-9261-d9ff1b0c6084"
      },
      "execution_count": 3,
      "outputs": [
        {
          "output_type": "stream",
          "name": "stdout",
          "text": [
            "               alg_name  n_threads  n_nodes  time_in_ms\n",
            "0    Depth_First_Search          0       10           0\n",
            "1    Depth_First_Search          0       10           0\n",
            "2    Depth_First_Search          0       10           0\n",
            "3    Depth_First_Search          0       10           0\n",
            "4    Depth_First_Search          0       10           0\n",
            "..                  ...        ...      ...         ...\n",
            "995              A_Star          8    10000           0\n",
            "996              A_Star          8    10000           0\n",
            "997              A_Star          8    10000           0\n",
            "998              A_Star          8    10000           0\n",
            "999              A_Star          8    10000           0\n",
            "\n",
            "[1000 rows x 4 columns]\n"
          ]
        }
      ]
    },
    {
      "cell_type": "markdown",
      "source": [
        "## Getting the average times"
      ],
      "metadata": {
        "id": "3999cv9L0Ygw"
      }
    },
    {
      "cell_type": "code",
      "source": [
        "avg_data = data.groupby(['alg_name', 'n_threads', 'n_nodes']).mean()\n",
        "avg_data = avg_data.reset_index()\n",
        "print(avg_data)\n",
        "\n",
        "max_time = avg_data['time_in_ms'].max()\n",
        "print('Max avg time:', max_time, \"ms\")"
      ],
      "metadata": {
        "colab": {
          "base_uri": "https://localhost:8080/"
        },
        "id": "Jfc7Gm550aK_",
        "outputId": "5af543d1-94ae-42bc-fab0-e405a8290797"
      },
      "execution_count": 4,
      "outputs": [
        {
          "output_type": "stream",
          "name": "stdout",
          "text": [
            "    alg_name  n_threads  n_nodes  time_in_ms\n",
            "0     A_Star          0       10         0.0\n",
            "1     A_Star          0       50         0.0\n",
            "2     A_Star          0      100         0.0\n",
            "3     A_Star          0     1000         0.0\n",
            "4     A_Star          0    10000         0.0\n",
            "..       ...        ...      ...         ...\n",
            "95  Dijkstra          8       10         0.0\n",
            "96  Dijkstra          8       50         0.0\n",
            "97  Dijkstra          8      100         0.0\n",
            "98  Dijkstra          8     1000         0.0\n",
            "99  Dijkstra          8    10000         0.0\n",
            "\n",
            "[100 rows x 4 columns]\n",
            "Max avg time: 0.0 ms\n"
          ]
        }
      ]
    },
    {
      "cell_type": "markdown",
      "source": [
        "## Preparing the plots"
      ],
      "metadata": {
        "id": "FS7yVP-a9yfn"
      }
    },
    {
      "cell_type": "code",
      "source": [
        "def get_plot_data(df, alg_name):\n",
        "    \n",
        "    manip = df.where(df['alg_name'] == alg_name).dropna()[['n_threads', 'n_nodes', 'time_in_ms']]\n",
        "\n",
        "    thread_groups = manip['n_threads'].unique()\n",
        "    thread_groups = [str(round(x)) for x in thread_groups]\n",
        "\n",
        "    new_data = pd.DataFrame()\n",
        "\n",
        "    new_data['threads'] = thread_groups\n",
        "\n",
        "    node_groups = manip['n_nodes'].unique()\n",
        "    node_groups = [str(round(x)) for x in node_groups]\n",
        "\n",
        "    for i in node_groups:\n",
        "        new_col = manip[manip['n_nodes'] == float(i)]['time_in_ms'].copy().to_numpy()\n",
        "        new_data[i] = new_col\n",
        "\n",
        "    return (new_data, node_groups)"
      ],
      "metadata": {
        "id": "8EkDSLeITO15"
      },
      "execution_count": 5,
      "outputs": []
    },
    {
      "cell_type": "code",
      "source": [
        "avg_data.loc[avg_data['alg_name'] == 'A_Star', 'time_in_ms'] = 1\n",
        "avg_data.loc[avg_data['alg_name'] == 'Breadth_First_Search', 'time_in_ms'] = 2\n",
        "avg_data.loc[avg_data['alg_name'] == 'Depth_First_Search', 'time_in_ms'] = 3\n",
        "avg_data.loc[avg_data['alg_name'] == 'Dijkstra', 'time_in_ms'] = 4\n",
        "print(avg_data)\n",
        "\n",
        "a_star_data, x_tick_labels = get_plot_data(avg_data, 'A_Star')\n",
        "bfs_data, _ = get_plot_data(avg_data, 'Breadth_First_Search')\n",
        "dfs_data, _ = get_plot_data(avg_data, 'Depth_First_Search')\n",
        "dijkstra_data, _ = get_plot_data(avg_data, 'Dijkstra')\n",
        "print(a_star_data)\n",
        "print(bfs_data)\n",
        "print(dfs_data)\n",
        "print(dijkstra_data)"
      ],
      "metadata": {
        "colab": {
          "base_uri": "https://localhost:8080/"
        },
        "id": "zcVZ5KMNTzrw",
        "outputId": "835ba4cb-8a67-4c89-da72-4ebdb268662b"
      },
      "execution_count": 6,
      "outputs": [
        {
          "output_type": "stream",
          "name": "stdout",
          "text": [
            "    alg_name  n_threads  n_nodes  time_in_ms\n",
            "0     A_Star          0       10         1.0\n",
            "1     A_Star          0       50         1.0\n",
            "2     A_Star          0      100         1.0\n",
            "3     A_Star          0     1000         1.0\n",
            "4     A_Star          0    10000         1.0\n",
            "..       ...        ...      ...         ...\n",
            "95  Dijkstra          8       10         4.0\n",
            "96  Dijkstra          8       50         4.0\n",
            "97  Dijkstra          8      100         4.0\n",
            "98  Dijkstra          8     1000         4.0\n",
            "99  Dijkstra          8    10000         4.0\n",
            "\n",
            "[100 rows x 4 columns]\n",
            "  threads   10   50  100  1000  10000\n",
            "0       0  1.0  1.0  1.0   1.0    1.0\n",
            "1       1  1.0  1.0  1.0   1.0    1.0\n",
            "2       2  1.0  1.0  1.0   1.0    1.0\n",
            "3       4  1.0  1.0  1.0   1.0    1.0\n",
            "4       8  1.0  1.0  1.0   1.0    1.0\n",
            "  threads   10   50  100  1000  10000\n",
            "0       0  2.0  2.0  2.0   2.0    2.0\n",
            "1       1  2.0  2.0  2.0   2.0    2.0\n",
            "2       2  2.0  2.0  2.0   2.0    2.0\n",
            "3       4  2.0  2.0  2.0   2.0    2.0\n",
            "4       8  2.0  2.0  2.0   2.0    2.0\n",
            "  threads   10   50  100  1000  10000\n",
            "0       0  3.0  3.0  3.0   3.0    3.0\n",
            "1       1  3.0  3.0  3.0   3.0    3.0\n",
            "2       2  3.0  3.0  3.0   3.0    3.0\n",
            "3       4  3.0  3.0  3.0   3.0    3.0\n",
            "4       8  3.0  3.0  3.0   3.0    3.0\n",
            "  threads   10   50  100  1000  10000\n",
            "0       0  4.0  4.0  4.0   4.0    4.0\n",
            "1       1  4.0  4.0  4.0   4.0    4.0\n",
            "2       2  4.0  4.0  4.0   4.0    4.0\n",
            "3       4  4.0  4.0  4.0   4.0    4.0\n",
            "4       8  4.0  4.0  4.0   4.0    4.0\n"
          ]
        }
      ]
    },
    {
      "cell_type": "markdown",
      "source": [
        "## Plotting The Data"
      ],
      "metadata": {
        "id": "ORvfI7szZLZ6"
      }
    },
    {
      "cell_type": "code",
      "source": [
        "fig, axs = plt.subplots(2, 2)\n",
        "\n",
        "axs[0,0].set_ylabel('Average time in milliseconds')\n",
        "axs[0,1].set_ylabel('Average time in milliseconds')\n",
        "axs[1,0].set_ylabel('Average time in milliseconds')\n",
        "axs[1,1].set_ylabel('Average time in milliseconds')\n",
        "\n",
        "axs[0,0].set_ylim(0, 100)\n",
        "axs[0,1].set_ylim(0, 100)\n",
        "axs[1,0].set_ylim(0, 100)\n",
        "axs[1,1].set_ylim(0, 100)\n",
        "\n",
        "axs[0,0].set_title('DFS')\n",
        "axs[0,1].set_title('BFS')\n",
        "axs[1,0].set_title('Dijkstra')\n",
        "axs[1,1].set_title('A*')\n",
        "\n",
        "a_star_data.plot(ax = axs[0,0], x='threads', y=x_tick_labels, kind=\"bar\", rot=0)\n",
        "bfs_data.plot(ax = axs[0,1], x='threads', y=x_tick_labels, kind=\"bar\", rot=0)\n",
        "dfs_data.plot(ax = axs[1,0], x='threads', y=x_tick_labels, kind=\"bar\", rot=0)\n",
        "dijkstra_data.plot(ax = axs[1,1], x='threads', y=x_tick_labels, kind=\"bar\", rot=0)\n",
        "\n",
        "plt.subplots_adjust(bottom=1, right=2, top=4)"
      ],
      "metadata": {
        "colab": {
          "base_uri": "https://localhost:8080/",
          "height": 942
        },
        "id": "CA9aWgGPZNW0",
        "outputId": "816f73ea-c5b3-4410-feea-13aeb6042445"
      },
      "execution_count": 10,
      "outputs": [
        {
          "output_type": "display_data",
          "data": {
            "text/plain": [
              "<Figure size 432x288 with 4 Axes>"
            ],
            "image/png": "[encoded data removed]"
          },
          "metadata": {
            "needs_background": "light"
          }
        }
      ]
    }
  ]
}